{
  "nbformat": 4,
  "nbformat_minor": 0,
  "metadata": {
    "colab": {
      "provenance": []
    },
    "kernelspec": {
      "name": "python3",
      "display_name": "Python 3"
    },
    "language_info": {
      "name": "python"
    }
  },
  "cells": [
    {
      "cell_type": "code",
      "execution_count": 1,
      "metadata": {
        "id": "LD95DahHu_Ui"
      },
      "outputs": [],
      "source": [
        "import numpy as np\n",
        "import pandas as pd\n",
        "import matplotlib.pyplot as plt\n",
        "from keras.models import Sequential\n",
        "from keras.layers import SimpleRNN, Dense\n",
        "from sklearn.preprocessing import MinMaxScaler\n",
        "from sklearn.metrics import mean_squared_error"
      ]
    },
    {
      "cell_type": "code",
      "source": [
        "# Load the dataset\n",
        "url = 'https://raw.githubusercontent.com/jbrownlee/Datasets/master/airline-passengers.csv'\n",
        "dataset = pd.read_csv(url, usecols=[1], engine='python')\n",
        "data = dataset.values.astype('float32')"
      ],
      "metadata": {
        "id": "0c3NWJjbvNhk"
      },
      "execution_count": 2,
      "outputs": []
    },
    {
      "cell_type": "code",
      "source": [
        "# Normalize the dataset\n",
        "scaler = MinMaxScaler(feature_range=(0, 1))\n",
        "data_scaled = scaler.fit_transform(data)"
      ],
      "metadata": {
        "id": "6suAKFw_vTkE"
      },
      "execution_count": 3,
      "outputs": []
    },
    {
      "cell_type": "code",
      "source": [
        "# Prepare the data for RNN\n",
        "def create_dataset(dataset, look_back=1):\n",
        "    X, y = [], []\n",
        "    for i in range(len(dataset) - look_back - 1):\n",
        "        X.append(dataset[i:(i + look_back), 0])\n",
        "        y.append(dataset[i + look_back, 0])\n",
        "    return np.array(X), np.array(y)"
      ],
      "metadata": {
        "id": "ATeyftGgvY_k"
      },
      "execution_count": 4,
      "outputs": []
    },
    {
      "cell_type": "code",
      "source": [
        "look_back = 3\n",
        "X, y = create_dataset(data_scaled, look_back)\n",
        "X = np.reshape(X, (X.shape[0], X.shape[1], 1))"
      ],
      "metadata": {
        "id": "3QsEPCDDvbv1"
      },
      "execution_count": 5,
      "outputs": []
    },
    {
      "cell_type": "code",
      "source": [
        "# Create and fit the RNN model\n",
        "model = Sequential()\n",
        "model.add(SimpleRNN(50, input_shape=(look_back, 1)))\n",
        "model.add(Dense(1))\n",
        "model.compile(loss='mean_squared_error', optimizer='adam')\n",
        "model.fit(X, y, epochs=100, batch_size=1, verbose=2)"
      ],
      "metadata": {
        "colab": {
          "base_uri": "https://localhost:8080/"
        },
        "id": "YMzoHC5TvemC",
        "outputId": "0fe7b53a-2817-4d45-8fed-994e4900563a"
      },
      "execution_count": 6,
      "outputs": [
        {
          "output_type": "stream",
          "name": "stderr",
          "text": [
            "/usr/local/lib/python3.10/dist-packages/keras/src/layers/rnn/rnn.py:204: UserWarning: Do not pass an `input_shape`/`input_dim` argument to a layer. When using Sequential models, prefer using an `Input(shape)` object as the first layer in the model instead.\n",
            "  super().__init__(**kwargs)\n"
          ]
        },
        {
          "output_type": "stream",
          "name": "stdout",
          "text": [
            "Epoch 1/100\n",
            "140/140 - 2s - 11ms/step - loss: 0.0297\n",
            "Epoch 2/100\n",
            "140/140 - 0s - 2ms/step - loss: 0.0129\n",
            "Epoch 3/100\n",
            "140/140 - 0s - 2ms/step - loss: 0.0099\n",
            "Epoch 4/100\n",
            "140/140 - 0s - 2ms/step - loss: 0.0071\n",
            "Epoch 5/100\n",
            "140/140 - 0s - 2ms/step - loss: 0.0069\n",
            "Epoch 6/100\n",
            "140/140 - 0s - 2ms/step - loss: 0.0077\n",
            "Epoch 7/100\n",
            "140/140 - 0s - 2ms/step - loss: 0.0057\n",
            "Epoch 8/100\n",
            "140/140 - 0s - 2ms/step - loss: 0.0060\n",
            "Epoch 9/100\n",
            "140/140 - 0s - 2ms/step - loss: 0.0046\n",
            "Epoch 10/100\n",
            "140/140 - 0s - 2ms/step - loss: 0.0050\n",
            "Epoch 11/100\n",
            "140/140 - 0s - 2ms/step - loss: 0.0048\n",
            "Epoch 12/100\n",
            "140/140 - 0s - 2ms/step - loss: 0.0052\n",
            "Epoch 13/100\n",
            "140/140 - 0s - 2ms/step - loss: 0.0043\n",
            "Epoch 14/100\n",
            "140/140 - 0s - 2ms/step - loss: 0.0042\n",
            "Epoch 15/100\n",
            "140/140 - 0s - 2ms/step - loss: 0.0039\n",
            "Epoch 16/100\n",
            "140/140 - 0s - 2ms/step - loss: 0.0047\n",
            "Epoch 17/100\n",
            "140/140 - 0s - 2ms/step - loss: 0.0037\n",
            "Epoch 18/100\n",
            "140/140 - 0s - 2ms/step - loss: 0.0043\n",
            "Epoch 19/100\n",
            "140/140 - 0s - 2ms/step - loss: 0.0044\n",
            "Epoch 20/100\n",
            "140/140 - 0s - 2ms/step - loss: 0.0044\n",
            "Epoch 21/100\n",
            "140/140 - 0s - 2ms/step - loss: 0.0040\n",
            "Epoch 22/100\n",
            "140/140 - 0s - 2ms/step - loss: 0.0043\n",
            "Epoch 23/100\n",
            "140/140 - 0s - 2ms/step - loss: 0.0043\n",
            "Epoch 24/100\n",
            "140/140 - 0s - 2ms/step - loss: 0.0038\n",
            "Epoch 25/100\n",
            "140/140 - 0s - 2ms/step - loss: 0.0049\n",
            "Epoch 26/100\n",
            "140/140 - 0s - 2ms/step - loss: 0.0039\n",
            "Epoch 27/100\n",
            "140/140 - 0s - 2ms/step - loss: 0.0040\n",
            "Epoch 28/100\n",
            "140/140 - 0s - 2ms/step - loss: 0.0042\n",
            "Epoch 29/100\n",
            "140/140 - 0s - 2ms/step - loss: 0.0040\n",
            "Epoch 30/100\n",
            "140/140 - 0s - 2ms/step - loss: 0.0039\n",
            "Epoch 31/100\n",
            "140/140 - 0s - 2ms/step - loss: 0.0045\n",
            "Epoch 32/100\n",
            "140/140 - 0s - 3ms/step - loss: 0.0037\n",
            "Epoch 33/100\n",
            "140/140 - 0s - 3ms/step - loss: 0.0040\n",
            "Epoch 34/100\n",
            "140/140 - 1s - 5ms/step - loss: 0.0041\n",
            "Epoch 35/100\n",
            "140/140 - 1s - 4ms/step - loss: 0.0043\n",
            "Epoch 36/100\n",
            "140/140 - 0s - 3ms/step - loss: 0.0038\n",
            "Epoch 37/100\n",
            "140/140 - 1s - 4ms/step - loss: 0.0039\n",
            "Epoch 38/100\n",
            "140/140 - 0s - 3ms/step - loss: 0.0041\n",
            "Epoch 39/100\n",
            "140/140 - 0s - 2ms/step - loss: 0.0041\n",
            "Epoch 40/100\n",
            "140/140 - 0s - 2ms/step - loss: 0.0042\n",
            "Epoch 41/100\n",
            "140/140 - 0s - 2ms/step - loss: 0.0043\n",
            "Epoch 42/100\n",
            "140/140 - 0s - 2ms/step - loss: 0.0040\n",
            "Epoch 43/100\n",
            "140/140 - 0s - 2ms/step - loss: 0.0040\n",
            "Epoch 44/100\n",
            "140/140 - 0s - 2ms/step - loss: 0.0046\n",
            "Epoch 45/100\n",
            "140/140 - 0s - 2ms/step - loss: 0.0035\n",
            "Epoch 46/100\n",
            "140/140 - 0s - 2ms/step - loss: 0.0040\n",
            "Epoch 47/100\n",
            "140/140 - 0s - 2ms/step - loss: 0.0042\n",
            "Epoch 48/100\n",
            "140/140 - 0s - 2ms/step - loss: 0.0044\n",
            "Epoch 49/100\n",
            "140/140 - 0s - 2ms/step - loss: 0.0041\n",
            "Epoch 50/100\n",
            "140/140 - 0s - 2ms/step - loss: 0.0041\n",
            "Epoch 51/100\n",
            "140/140 - 0s - 2ms/step - loss: 0.0041\n",
            "Epoch 52/100\n",
            "140/140 - 0s - 2ms/step - loss: 0.0042\n",
            "Epoch 53/100\n",
            "140/140 - 0s - 2ms/step - loss: 0.0042\n",
            "Epoch 54/100\n",
            "140/140 - 0s - 2ms/step - loss: 0.0039\n",
            "Epoch 55/100\n",
            "140/140 - 0s - 2ms/step - loss: 0.0040\n",
            "Epoch 56/100\n",
            "140/140 - 0s - 2ms/step - loss: 0.0040\n",
            "Epoch 57/100\n",
            "140/140 - 0s - 2ms/step - loss: 0.0040\n",
            "Epoch 58/100\n",
            "140/140 - 0s - 2ms/step - loss: 0.0039\n",
            "Epoch 59/100\n",
            "140/140 - 0s - 2ms/step - loss: 0.0039\n",
            "Epoch 60/100\n",
            "140/140 - 0s - 2ms/step - loss: 0.0039\n",
            "Epoch 61/100\n",
            "140/140 - 0s - 2ms/step - loss: 0.0037\n",
            "Epoch 62/100\n",
            "140/140 - 0s - 2ms/step - loss: 0.0038\n",
            "Epoch 63/100\n",
            "140/140 - 0s - 2ms/step - loss: 0.0042\n",
            "Epoch 64/100\n",
            "140/140 - 0s - 2ms/step - loss: 0.0041\n",
            "Epoch 65/100\n",
            "140/140 - 0s - 2ms/step - loss: 0.0038\n",
            "Epoch 66/100\n",
            "140/140 - 0s - 2ms/step - loss: 0.0048\n",
            "Epoch 67/100\n",
            "140/140 - 0s - 2ms/step - loss: 0.0037\n",
            "Epoch 68/100\n",
            "140/140 - 0s - 2ms/step - loss: 0.0039\n",
            "Epoch 69/100\n",
            "140/140 - 0s - 2ms/step - loss: 0.0042\n",
            "Epoch 70/100\n",
            "140/140 - 0s - 2ms/step - loss: 0.0037\n",
            "Epoch 71/100\n",
            "140/140 - 0s - 2ms/step - loss: 0.0041\n",
            "Epoch 72/100\n",
            "140/140 - 0s - 3ms/step - loss: 0.0036\n",
            "Epoch 73/100\n",
            "140/140 - 1s - 4ms/step - loss: 0.0038\n",
            "Epoch 74/100\n",
            "140/140 - 1s - 4ms/step - loss: 0.0040\n",
            "Epoch 75/100\n",
            "140/140 - 1s - 5ms/step - loss: 0.0038\n",
            "Epoch 76/100\n",
            "140/140 - 1s - 4ms/step - loss: 0.0041\n",
            "Epoch 77/100\n",
            "140/140 - 0s - 2ms/step - loss: 0.0042\n",
            "Epoch 78/100\n",
            "140/140 - 0s - 2ms/step - loss: 0.0038\n",
            "Epoch 79/100\n",
            "140/140 - 0s - 2ms/step - loss: 0.0038\n",
            "Epoch 80/100\n",
            "140/140 - 0s - 2ms/step - loss: 0.0036\n",
            "Epoch 81/100\n",
            "140/140 - 0s - 2ms/step - loss: 0.0042\n",
            "Epoch 82/100\n",
            "140/140 - 0s - 2ms/step - loss: 0.0038\n",
            "Epoch 83/100\n",
            "140/140 - 0s - 2ms/step - loss: 0.0036\n",
            "Epoch 84/100\n",
            "140/140 - 0s - 2ms/step - loss: 0.0039\n",
            "Epoch 85/100\n",
            "140/140 - 0s - 2ms/step - loss: 0.0036\n",
            "Epoch 86/100\n",
            "140/140 - 0s - 2ms/step - loss: 0.0037\n",
            "Epoch 87/100\n",
            "140/140 - 0s - 2ms/step - loss: 0.0037\n",
            "Epoch 88/100\n",
            "140/140 - 0s - 2ms/step - loss: 0.0034\n",
            "Epoch 89/100\n",
            "140/140 - 0s - 2ms/step - loss: 0.0040\n",
            "Epoch 90/100\n",
            "140/140 - 0s - 2ms/step - loss: 0.0037\n",
            "Epoch 91/100\n",
            "140/140 - 0s - 2ms/step - loss: 0.0036\n",
            "Epoch 92/100\n",
            "140/140 - 0s - 2ms/step - loss: 0.0036\n",
            "Epoch 93/100\n",
            "140/140 - 0s - 2ms/step - loss: 0.0036\n",
            "Epoch 94/100\n",
            "140/140 - 0s - 2ms/step - loss: 0.0037\n",
            "Epoch 95/100\n",
            "140/140 - 0s - 2ms/step - loss: 0.0040\n",
            "Epoch 96/100\n",
            "140/140 - 0s - 2ms/step - loss: 0.0038\n",
            "Epoch 97/100\n",
            "140/140 - 0s - 2ms/step - loss: 0.0037\n",
            "Epoch 98/100\n",
            "140/140 - 0s - 2ms/step - loss: 0.0039\n",
            "Epoch 99/100\n",
            "140/140 - 0s - 2ms/step - loss: 0.0035\n",
            "Epoch 100/100\n",
            "140/140 - 0s - 2ms/step - loss: 0.0037\n"
          ]
        },
        {
          "output_type": "execute_result",
          "data": {
            "text/plain": [
              "<keras.src.callbacks.history.History at 0x7e86185e5090>"
            ]
          },
          "metadata": {},
          "execution_count": 6
        }
      ]
    },
    {
      "cell_type": "code",
      "source": [
        "# Make predictions\n",
        "train_predict = model.predict(X)\n",
        "train_predict = scaler.inverse_transform(train_predict)\n",
        "y_true = scaler.inverse_transform([y])"
      ],
      "metadata": {
        "colab": {
          "base_uri": "https://localhost:8080/"
        },
        "id": "qdSVyQaLvgci",
        "outputId": "7f6b27ac-db68-4f62-e157-f454f27a8c1f"
      },
      "execution_count": 7,
      "outputs": [
        {
          "output_type": "stream",
          "name": "stdout",
          "text": [
            "\u001b[1m5/5\u001b[0m \u001b[32m━━━━━━━━━━━━━━━━━━━━\u001b[0m\u001b[37m\u001b[0m \u001b[1m0s\u001b[0m 34ms/step\n"
          ]
        }
      ]
    },
    {
      "cell_type": "code",
      "source": [
        "# Plot results\n",
        "plt.plot(scaler.inverse_transform(data_scaled), label='Original Data')\n",
        "plt.plot(np.arange(look_back, len(train_predict) + look_back), train_predict, label='RNN Prediction')\n",
        "plt.legend()\n",
        "plt.show()"
      ],
      "metadata": {
        "colab": {
          "base_uri": "https://localhost:8080/",
          "height": 430
        },
        "id": "zrHthEFGviGv",
        "outputId": "ae39aea7-e94d-433b-a9c2-d4e5ae1e51db"
      },
      "execution_count": 8,
      "outputs": [
        {
          "output_type": "display_data",
          "data": {
            "text/plain": [
              "<Figure size 640x480 with 1 Axes>"
            ],
            "image/png": "[encoded data removed]"
          },
          "metadata": {}
        }
      ]
    },
    {
      "cell_type": "code",
      "source": [
        "# Calculate performance\n",
        "mse = mean_squared_error(y_true[0], train_predict.flatten())\n",
        "print(f\"Mean Squared Error: {mse}\")"
      ],
      "metadata": {
        "colab": {
          "base_uri": "https://localhost:8080/"
        },
        "id": "llysPypZvjqE",
        "outputId": "fa0d2bfb-7603-4ecb-e02e-28a2634d1b58"
      },
      "execution_count": 9,
      "outputs": [
        {
          "output_type": "stream",
          "name": "stdout",
          "text": [
            "Mean Squared Error: 902.6213856950653\n"
          ]
        }
      ]
    },
    {
      "cell_type": "code",
      "source": [],
      "metadata": {
        "id": "IfXBEQNyvyiG"
      },
      "execution_count": null,
      "outputs": []
    }
  ]
}