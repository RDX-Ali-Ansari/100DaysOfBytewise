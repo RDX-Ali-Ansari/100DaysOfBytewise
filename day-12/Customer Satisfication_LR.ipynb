{
 "cells": [
  {
   "cell_type": "code",
   "execution_count": 48,
   "id": "6115934b-6adc-4d3e-b89b-af0c6dd21ad2",
   "metadata": {},
   "outputs": [],
   "source": [
    "import pandas as pd\n",
    "import numpy as np"
   ]
  },
  {
   "cell_type": "code",
   "execution_count": 68,
   "id": "d18895c8-e7b3-4b0b-8f3a-8fb9dd8d2952",
   "metadata": {},
   "outputs": [],
   "source": [
    "from sklearn.impute import SimpleImputer\n",
    "from sklearn.model_selection import train_test_split\n",
    "from sklearn.preprocessing import LabelEncoder\n",
    "from sklearn.linear_model import LogisticRegression\n",
    "from sklearn.metrics import accuracy_score, confusion_matrix"
   ]
  },
  {
   "cell_type": "code",
   "execution_count": 70,
   "id": "8f0029ac-eeda-41f2-8775-fb834f4102fe",
   "metadata": {},
   "outputs": [],
   "source": [
    "data = pd.read_csv(\"Customer-survey-data.csv\")"
   ]
  },
  {
   "cell_type": "code",
   "execution_count": 51,
   "id": "b2cc45c0-aa4a-48e1-8256-66db1d72ab81",
   "metadata": {},
   "outputs": [
    {
     "data": {
      "text/html": [
       "<div>\n",
       "<style scoped>\n",
       "    .dataframe tbody tr th:only-of-type {\n",
       "        vertical-align: middle;\n",
       "    }\n",
       "\n",
       "    .dataframe tbody tr th {\n",
       "        vertical-align: top;\n",
       "    }\n",
       "\n",
       "    .dataframe thead th {\n",
       "        text-align: right;\n",
       "    }\n",
       "</style>\n",
       "<table border=\"1\" class=\"dataframe\">\n",
       "  <thead>\n",
       "    <tr style=\"text-align: right;\">\n",
       "      <th></th>\n",
       "      <th>Customer ID</th>\n",
       "      <th>Overall Delivery Experience (Rating)</th>\n",
       "      <th>Food Quality (Rating)</th>\n",
       "      <th>Speed of Delivery (Rating)</th>\n",
       "      <th>Order Accuracy</th>\n",
       "    </tr>\n",
       "  </thead>\n",
       "  <tbody>\n",
       "    <tr>\n",
       "      <th>0</th>\n",
       "      <td>1</td>\n",
       "      <td>5.0</td>\n",
       "      <td>3.0</td>\n",
       "      <td>4.0</td>\n",
       "      <td>Yes</td>\n",
       "    </tr>\n",
       "    <tr>\n",
       "      <th>1</th>\n",
       "      <td>2</td>\n",
       "      <td>3.0</td>\n",
       "      <td>4.0</td>\n",
       "      <td>3.0</td>\n",
       "      <td>Yes</td>\n",
       "    </tr>\n",
       "    <tr>\n",
       "      <th>2</th>\n",
       "      <td>3</td>\n",
       "      <td>4.0</td>\n",
       "      <td>5.0</td>\n",
       "      <td>2.0</td>\n",
       "      <td>Yes</td>\n",
       "    </tr>\n",
       "    <tr>\n",
       "      <th>3</th>\n",
       "      <td>4</td>\n",
       "      <td>5.0</td>\n",
       "      <td>3.0</td>\n",
       "      <td>4.0</td>\n",
       "      <td>Yes</td>\n",
       "    </tr>\n",
       "    <tr>\n",
       "      <th>4</th>\n",
       "      <td>5</td>\n",
       "      <td>2.0</td>\n",
       "      <td>5.0</td>\n",
       "      <td>1.0</td>\n",
       "      <td>Yes</td>\n",
       "    </tr>\n",
       "  </tbody>\n",
       "</table>\n",
       "</div>"
      ],
      "text/plain": [
       "   Customer ID  Overall Delivery Experience (Rating)  Food Quality (Rating)  \\\n",
       "0            1                                   5.0                    3.0   \n",
       "1            2                                   3.0                    4.0   \n",
       "2            3                                   4.0                    5.0   \n",
       "3            4                                   5.0                    3.0   \n",
       "4            5                                   2.0                    5.0   \n",
       "\n",
       "   Speed of Delivery (Rating) Order Accuracy  \n",
       "0                         4.0            Yes  \n",
       "1                         3.0            Yes  \n",
       "2                         2.0            Yes  \n",
       "3                         4.0            Yes  \n",
       "4                         1.0            Yes  "
      ]
     },
     "execution_count": 51,
     "metadata": {},
     "output_type": "execute_result"
    }
   ],
   "source": [
    "data.head()"
   ]
  },
  {
   "cell_type": "code",
   "execution_count": 56,
   "id": "5b0497be-4384-4ad6-b972-8a33a84e92bf",
   "metadata": {},
   "outputs": [
    {
     "data": {
      "text/plain": [
       "Customer ID                               0\n",
       "Overall Delivery Experience (Rating)    418\n",
       "Food Quality (Rating)                   252\n",
       "Speed of Delivery (Rating)              239\n",
       "Order Accuracy                          660\n",
       "dtype: int64"
      ]
     },
     "execution_count": 56,
     "metadata": {},
     "output_type": "execute_result"
    }
   ],
   "source": [
    "data.isnull().sum()"
   ]
  },
  {
   "cell_type": "code",
   "execution_count": 62,
   "id": "ac1a9e3b-fcf0-4467-a2a6-ce9827fcc11f",
   "metadata": {},
   "outputs": [],
   "source": [
    "data.drop(columns = \"Customer ID\", inplace = True)"
   ]
  },
  {
   "cell_type": "code",
   "execution_count": 72,
   "id": "b877d4f3-139d-4ac5-870a-d0121120af2d",
   "metadata": {},
   "outputs": [],
   "source": [
    "X_train, x_test, y_train, y_test = train_test_split(data.iloc[ : , 0 : 3], data.iloc[ : , -1], test_size=0.2, random_state=None)"
   ]
  },
  {
   "cell_type": "code",
   "execution_count": 84,
   "id": "a9f22831-801c-46e8-9c3e-af359db5c491",
   "metadata": {},
   "outputs": [],
   "source": [
    "si = SimpleImputer()"
   ]
  },
  {
   "cell_type": "code",
   "execution_count": 86,
   "id": "2f3c0b9d-9876-4087-b848-2084563bdd62",
   "metadata": {},
   "outputs": [],
   "source": [
    "X_train = si.fit_transform(X_train)"
   ]
  },
  {
   "cell_type": "code",
   "execution_count": 88,
   "id": "249ce4c5-4404-4558-a159-4517aa4631ab",
   "metadata": {},
   "outputs": [
    {
     "data": {
      "text/plain": [
       "array([[2.236e+03, 3.000e+00, 3.000e+00],\n",
       "       [9.688e+03, 2.000e+00, 3.000e+00],\n",
       "       [7.517e+03, 2.000e+00, 2.000e+00],\n",
       "       ...,\n",
       "       [7.079e+03, 1.000e+00, 1.000e+00],\n",
       "       [9.478e+03, 2.000e+00, 2.000e+00],\n",
       "       [1.557e+03, 3.000e+00, 3.000e+00]])"
      ]
     },
     "execution_count": 88,
     "metadata": {},
     "output_type": "execute_result"
    }
   ],
   "source": [
    "X_train"
   ]
  },
  {
   "cell_type": "code",
   "execution_count": null,
   "id": "9d2777b5-62c1-434e-8799-6d0feb083f59",
   "metadata": {},
   "outputs": [],
   "source": []
  }
 ],
 "metadata": {
  "kernelspec": {
   "display_name": "Python 3 (ipykernel)",
   "language": "python",
   "name": "python3"
  },
  "language_info": {
   "codemirror_mode": {
    "name": "ipython",
    "version": 3
   },
   "file_extension": ".py",
   "mimetype": "text/x-python",
   "name": "python",
   "nbconvert_exporter": "python",
   "pygments_lexer": "ipython3",
   "version": "3.12.4"
  }
 },
 "nbformat": 4,
 "nbformat_minor": 5
}
